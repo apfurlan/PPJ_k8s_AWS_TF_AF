{
 "cells": [
  {
   "cell_type": "code",
   "execution_count": 24,
   "metadata": {},
   "outputs": [],
   "source": [
    "from datetime import datetime\n",
    "import pandas as pd\n",
    "import requests\n",
    "import json\n",
    "import boto3\n",
    "import sqlalchemy"
   ]
  },
  {
   "cell_type": "code",
   "execution_count": 25,
   "metadata": {},
   "outputs": [
    {
     "name": "stdout",
     "output_type": "stream",
     "text": [
      "Defaulting to user installation because normal site-packages is not writeable\n",
      "Requirement already satisfied: kaggle in /home/apfurlan/.local/lib/python3.10/site-packages (1.5.12)\n",
      "Requirement already satisfied: urllib3 in /usr/lib/python3/dist-packages (from kaggle) (1.26.5)\n",
      "Requirement already satisfied: python-dateutil in /usr/lib/python3/dist-packages (from kaggle) (2.8.1)\n",
      "Requirement already satisfied: certifi in /usr/lib/python3/dist-packages (from kaggle) (2020.6.20)\n",
      "Requirement already satisfied: six>=1.10 in /usr/lib/python3/dist-packages (from kaggle) (1.16.0)\n",
      "Requirement already satisfied: requests in /usr/lib/python3/dist-packages (from kaggle) (2.25.1)\n",
      "Requirement already satisfied: tqdm in /home/apfurlan/.local/lib/python3.10/site-packages (from kaggle) (4.64.0)\n",
      "Requirement already satisfied: python-slugify in /home/apfurlan/.local/lib/python3.10/site-packages (from kaggle) (6.1.2)\n",
      "Requirement already satisfied: text-unidecode>=1.3 in /home/apfurlan/.local/lib/python3.10/site-packages (from python-slugify->kaggle) (1.3)\n"
     ]
    }
   ],
   "source": [
    "! pip3 install kaggle"
   ]
  },
  {
   "cell_type": "code",
   "execution_count": 32,
   "metadata": {},
   "outputs": [
    {
     "name": "stdout",
     "output_type": "stream",
     "text": [
      "Warning: Your Kaggle API key is readable by other users on this system! To fix this, you can run 'chmod 600 /home/apfurlan/.kaggle/kaggle.json'\n",
      "ref                                                 title                             size  lastUpdated          downloadCount  voteCount  usabilityRating  \n",
      "--------------------------------------------------  -------------------------------  -----  -------------------  -------------  ---------  ---------------  \n",
      "datasets/hakabuk/gun-deaths-in-the-us               Gun Deaths in the US: 2012-2014  715KB  2017-01-25 10:32:17           4902         64  0.7647059        \n",
      "datasets/satoshidatamoto/police-deaths-in-americae  Police Deaths in America           1MB  2022-05-15 20:35:51             48          2  1.0              \n"
     ]
    }
   ],
   "source": [
    "!kaggle datasets list -s 'Police Deaths America'"
   ]
  },
  {
   "cell_type": "code",
   "execution_count": 11,
   "metadata": {},
   "outputs": [],
   "source": [
    "\n",
    "    url = \"https://apisidra.ibge.gov.br/values/t/6578/n1/all/v/10163/p/all/d/v10163%201?formato=json\"\n",
    "    data = requests.get(url)\n",
    "    data = data.json() \n",
    "\n",
    "    #path = '/usr/local/airflow/'\n",
    "    #filename = 'distritos.csv'\n",
    "    \n",
    "    df = pd.DataFrame(data)\n",
    "    #df = json_normalize(df['municipio'])\n",
    "    #df.to_csv(path+filename)"
   ]
  },
  {
   "cell_type": "code",
   "execution_count": 12,
   "metadata": {},
   "outputs": [
    {
     "data": {
      "text/html": [
       "<div>\n",
       "<style scoped>\n",
       "    .dataframe tbody tr th:only-of-type {\n",
       "        vertical-align: middle;\n",
       "    }\n",
       "\n",
       "    .dataframe tbody tr th {\n",
       "        vertical-align: top;\n",
       "    }\n",
       "\n",
       "    .dataframe thead th {\n",
       "        text-align: right;\n",
       "    }\n",
       "</style>\n",
       "<table border=\"1\" class=\"dataframe\">\n",
       "  <thead>\n",
       "    <tr style=\"text-align: right;\">\n",
       "      <th></th>\n",
       "      <th>NC</th>\n",
       "      <th>NN</th>\n",
       "      <th>MC</th>\n",
       "      <th>MN</th>\n",
       "      <th>V</th>\n",
       "      <th>D1C</th>\n",
       "      <th>D1N</th>\n",
       "      <th>D2C</th>\n",
       "      <th>D2N</th>\n",
       "      <th>D3C</th>\n",
       "      <th>D3N</th>\n",
       "    </tr>\n",
       "  </thead>\n",
       "  <tbody>\n",
       "    <tr>\n",
       "      <th>0</th>\n",
       "      <td>Nível Territorial (Código)</td>\n",
       "      <td>Nível Territorial</td>\n",
       "      <td>Unidade de Medida (Código)</td>\n",
       "      <td>Unidade de Medida</td>\n",
       "      <td>Valor</td>\n",
       "      <td>Brasil (Código)</td>\n",
       "      <td>Brasil</td>\n",
       "      <td>Variável (Código)</td>\n",
       "      <td>Variável</td>\n",
       "      <td>Ano (Código)</td>\n",
       "      <td>Ano</td>\n",
       "    </tr>\n",
       "    <tr>\n",
       "      <th>1</th>\n",
       "      <td>1</td>\n",
       "      <td>Brasil</td>\n",
       "      <td>45</td>\n",
       "      <td>Pessoas</td>\n",
       "      <td>3.0</td>\n",
       "      <td>1</td>\n",
       "      <td>Brasil</td>\n",
       "      <td>10163</td>\n",
       "      <td>Número médio de moradores</td>\n",
       "      <td>2016</td>\n",
       "      <td>2016</td>\n",
       "    </tr>\n",
       "    <tr>\n",
       "      <th>2</th>\n",
       "      <td>1</td>\n",
       "      <td>Brasil</td>\n",
       "      <td>45</td>\n",
       "      <td>Pessoas</td>\n",
       "      <td>3.0</td>\n",
       "      <td>1</td>\n",
       "      <td>Brasil</td>\n",
       "      <td>10163</td>\n",
       "      <td>Número médio de moradores</td>\n",
       "      <td>2017</td>\n",
       "      <td>2017</td>\n",
       "    </tr>\n",
       "    <tr>\n",
       "      <th>3</th>\n",
       "      <td>1</td>\n",
       "      <td>Brasil</td>\n",
       "      <td>45</td>\n",
       "      <td>Pessoas</td>\n",
       "      <td>2.9</td>\n",
       "      <td>1</td>\n",
       "      <td>Brasil</td>\n",
       "      <td>10163</td>\n",
       "      <td>Número médio de moradores</td>\n",
       "      <td>2018</td>\n",
       "      <td>2018</td>\n",
       "    </tr>\n",
       "    <tr>\n",
       "      <th>4</th>\n",
       "      <td>1</td>\n",
       "      <td>Brasil</td>\n",
       "      <td>45</td>\n",
       "      <td>Pessoas</td>\n",
       "      <td>2.9</td>\n",
       "      <td>1</td>\n",
       "      <td>Brasil</td>\n",
       "      <td>10163</td>\n",
       "      <td>Número médio de moradores</td>\n",
       "      <td>2019</td>\n",
       "      <td>2019</td>\n",
       "    </tr>\n",
       "  </tbody>\n",
       "</table>\n",
       "</div>"
      ],
      "text/plain": [
       "                           NC                 NN                          MC  \\\n",
       "0  Nível Territorial (Código)  Nível Territorial  Unidade de Medida (Código)   \n",
       "1                           1             Brasil                          45   \n",
       "2                           1             Brasil                          45   \n",
       "3                           1             Brasil                          45   \n",
       "4                           1             Brasil                          45   \n",
       "\n",
       "                  MN      V              D1C     D1N                D2C  \\\n",
       "0  Unidade de Medida  Valor  Brasil (Código)  Brasil  Variável (Código)   \n",
       "1            Pessoas    3.0                1  Brasil              10163   \n",
       "2            Pessoas    3.0                1  Brasil              10163   \n",
       "3            Pessoas    2.9                1  Brasil              10163   \n",
       "4            Pessoas    2.9                1  Brasil              10163   \n",
       "\n",
       "                         D2N           D3C   D3N  \n",
       "0                   Variável  Ano (Código)   Ano  \n",
       "1  Número médio de moradores          2016  2016  \n",
       "2  Número médio de moradores          2017  2017  \n",
       "3  Número médio de moradores          2018  2018  \n",
       "4  Número médio de moradores          2019  2019  "
      ]
     },
     "execution_count": 12,
     "metadata": {},
     "output_type": "execute_result"
    }
   ],
   "source": [
    "df.head()"
   ]
  }
 ],
 "metadata": {
  "interpreter": {
   "hash": "31f2aee4e71d21fbe5cf8b01ff0e069b9275f58929596ceb00d14d90e3e16cd6"
  },
  "kernelspec": {
   "display_name": "Python 3.10.4 64-bit",
   "language": "python",
   "name": "python3"
  },
  "language_info": {
   "codemirror_mode": {
    "name": "ipython",
    "version": 3
   },
   "file_extension": ".py",
   "mimetype": "text/x-python",
   "name": "python",
   "nbconvert_exporter": "python",
   "pygments_lexer": "ipython3",
   "version": "3.10.4"
  },
  "orig_nbformat": 4
 },
 "nbformat": 4,
 "nbformat_minor": 2
}
